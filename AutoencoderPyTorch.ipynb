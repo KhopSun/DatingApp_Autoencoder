{
 "cells": [
  {
   "cell_type": "markdown",
   "metadata": {},
   "source": [
    "## Theory"
   ]
  },
  {
   "cell_type": "markdown",
   "metadata": {},
   "source": [
    "An **autoencoder** is a type of **neural network** used mainly for **unsupervised learning**. It is designed to **encode** input data  and then **reconstruct** the original input from this compressed representation."
   ]
  },
  {
   "cell_type": "markdown",
   "metadata": {},
   "source": [
    "#### How It Works:\n",
    "\n",
    "An autoencoder consists of two main parts:\n",
    "\n",
    "- **Encoder:** Compresses the input data into a lower-dimensional representation (latent space).\n",
    "- **Decoder:** Reconstructs the original input from this compressed representation.\n"
   ]
  },
  {
   "cell_type": "markdown",
   "metadata": {},
   "source": [
    "## Implementation"
   ]
  },
  {
   "cell_type": "code",
   "execution_count": 1,
   "metadata": {},
   "outputs": [],
   "source": [
    "import torch\n",
    "import torch.nn as nn\n",
    "import torch.optim as optim\n",
    "from torchvision import datasets, transforms\n",
    "import matplotlib.pyplot as plt"
   ]
  },
  {
   "cell_type": "code",
   "execution_count": 2,
   "metadata": {},
   "outputs": [],
   "source": [
    "import ssl\n",
    "ssl._create_default_https_context = ssl._create_unverified_context\n",
    "# restart the kernel and it works"
   ]
  },
  {
   "cell_type": "code",
   "execution_count": 3,
   "metadata": {},
   "outputs": [
    {
     "name": "stderr",
     "output_type": "stream",
     "text": [
      "100%|██████████| 9.91M/9.91M [00:09<00:00, 1.05MB/s]\n",
      "100%|██████████| 28.9k/28.9k [00:00<00:00, 103kB/s]\n",
      "100%|██████████| 1.65M/1.65M [00:01<00:00, 851kB/s] \n",
      "100%|██████████| 4.54k/4.54k [00:00<00:00, 4.66MB/s]\n"
     ]
    }
   ],
   "source": [
    "transform = transforms.ToTensor()\n",
    "\n",
    "mnist_data = datasets.MNIST(root='./data', train=True, download=True, transform=transform)\n",
    "\n",
    "data_loader = torch.utils.data.DataLoader(dataset=mnist_data, batch_size=64, shuffle=True)"
   ]
  },
  {
   "cell_type": "code",
   "execution_count": null,
   "metadata": {},
   "outputs": [
    {
     "name": "stdout",
     "output_type": "stream",
     "text": [
      "tensor(0.) tensor(1.)\n"
     ]
    }
   ],
   "source": [
    "dataiter = iter(data_loader)\n",
    "images, labels = next(dataiter)\n",
    "print(torch.min(images), torch.max(images))\n",
    "# As seen, the tensor values ranges from 0 and 1"
   ]
  },
  {
   "cell_type": "code",
   "execution_count": null,
   "metadata": {},
   "outputs": [],
   "source": [
    "class Autoencoder(nn.Module):\n",
    "    def __init__(self):\n",
    "        # In the beginneing image size: N, 784\n",
    "\n",
    "        # Drastically reduce input image size\n",
    "        self.encoder = nn.Sequential(\n",
    "            nn.Linear(28*28, 128), # Linear Layer, reduce size from N, 784 -> N, 128\n",
    "            nn.ReLU(), # Activation function\n",
    "            nn.Linear(128, 64), # Linear Layer, reduce size from N, 128 -> N, 64\n",
    "            nn.ReLU(),\n",
    "            nn.Linear(64, 12), # Linear Layer, reduce size from N, 64 -> N, 12\n",
    "            nn.ReLU(),\n",
    "            nn.Linear(12, 3), # Linear Layer, reduce size from N, 12 -> N, 3\n",
    "        )\n",
    "\n",
    "        # Increase the output size to the original image size (oppostie of before)\n",
    "        self.decoder = nn.Sequential(\n",
    "            nn.Linear(3, 12), \n",
    "            nn.ReLU(),\n",
    "            nn.Linear(12, 64), \n",
    "            nn.ReLU(),\n",
    "            nn.Linear(64, 128), \n",
    "            nn.ReLU(),\n",
    "            nn.Linear(128, 28*28), \n",
    "            nn.Sigmoid() # Activation function to get output between 0 and 1\n",
    "        )\n",
    "\n",
    "\n",
    "    def forward(self, x):\n",
    "        encoded = self.encoder(x)\n",
    "        decoded = self.decoder(encoded)\n",
    "        return decoded"
   ]
  }
 ],
 "metadata": {
  "kernelspec": {
   "display_name": "Python 3",
   "language": "python",
   "name": "python3"
  },
  "language_info": {
   "codemirror_mode": {
    "name": "ipython",
    "version": 3
   },
   "file_extension": ".py",
   "mimetype": "text/x-python",
   "name": "python",
   "nbconvert_exporter": "python",
   "pygments_lexer": "ipython3",
   "version": "3.12.1"
  }
 },
 "nbformat": 4,
 "nbformat_minor": 2
}
