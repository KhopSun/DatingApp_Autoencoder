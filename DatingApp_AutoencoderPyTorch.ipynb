{
 "cells": [
  {
   "cell_type": "markdown",
   "metadata": {},
   "source": [
    "### Library"
   ]
  },
  {
   "cell_type": "code",
   "execution_count": 1,
   "metadata": {},
   "outputs": [],
   "source": [
    "import torch\n",
    "import torch.nn as nn\n",
    "import torch.optim as optim\n",
    "from torchvision import datasets, transforms\n",
    "import matplotlib.pyplot as plt"
   ]
  },
  {
   "cell_type": "code",
   "execution_count": null,
   "metadata": {},
   "outputs": [],
   "source": []
  },
  {
   "cell_type": "code",
   "execution_count": null,
   "metadata": {},
   "outputs": [],
   "source": [
    "class Autoencoder_Linear(nn.Module):\n",
    "    def __init__(self):\n",
    "        super().__init__()\n",
    "\n",
    "        # In the beginneing image size: N, 784\n",
    "        # Drastically reduce input image size\n",
    "        self.encoder = nn.Sequential(\n",
    "            nn.Linear(28*28, 128), # Linear Layer, reduce size from N, 784 -> N, 128\n",
    "            nn.ReLU(), # Activation function\n",
    "            nn.Linear(128, 64), # Linear Layer, reduce size from N, 128 -> N, 64\n",
    "            nn.ReLU(),\n",
    "            nn.Linear(64, 12), # Linear Layer, reduce size from N, 64 -> N, 12\n",
    "            nn.ReLU(),\n",
    "            nn.Linear(12, 3), # Linear Layer, reduce size from N, 12 -> N, 3\n",
    "        )\n",
    "\n",
    "        # Increase the output size to the original image size (oppostie of before)\n",
    "        self.decoder = nn.Sequential(\n",
    "            nn.Linear(3, 12), \n",
    "            nn.ReLU(),\n",
    "            nn.Linear(12, 64), \n",
    "            nn.ReLU(),\n",
    "            nn.Linear(64, 128), \n",
    "            nn.ReLU(),\n",
    "            nn.Linear(128, 28*28), \n",
    "            nn.Sigmoid() # Activation function to get output between 0 and 1\n",
    "        )\n",
    "\n",
    "    def forward(self, x):\n",
    "        encoded = self.encoder(x)\n",
    "        decoded = self.decoder(encoded)\n",
    "        return decoded\n",
    "    \n",
    "# Note:\n",
    "# Keep the Activation function of the last layer in mind\n",
    "# Input image ranges:\n",
    "#     [0,1] --> nn.Sigmoid()\n",
    "#     [-1,1] --> nn.Tanh()"
   ]
  },
  {
   "cell_type": "code",
   "execution_count": null,
   "metadata": {},
   "outputs": [],
   "source": []
  }
 ],
 "metadata": {
  "kernelspec": {
   "display_name": "Python 3",
   "language": "python",
   "name": "python3"
  },
  "language_info": {
   "codemirror_mode": {
    "name": "ipython",
    "version": 3
   },
   "file_extension": ".py",
   "mimetype": "text/x-python",
   "name": "python",
   "nbconvert_exporter": "python",
   "pygments_lexer": "ipython3",
   "version": "3.12.1"
  }
 },
 "nbformat": 4,
 "nbformat_minor": 2
}
